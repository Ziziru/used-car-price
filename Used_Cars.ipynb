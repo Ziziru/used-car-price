{
 "cells": [
  {
   "cell_type": "code",
   "execution_count": 142,
   "metadata": {},
   "outputs": [],
   "source": [
    "import numpy as np\n",
    "import pandas as pd \n",
    "import matplotlib.pyplot as plt\n",
    "import seaborn as sns\n",
    "sns.set()\n",
    "\n",
    "\n",
    "cars = pd.read_csv(\"C:\\E\\CLARK\\BIG DATA\\Final\\car_data.csv\")"
   ]
  },
  {
   "cell_type": "code",
   "execution_count": 143,
   "metadata": {},
   "outputs": [
    {
     "data": {
      "text/plain": [
       "<bound method DataFrame.info of         Unnamed: 0                                              Model  Year  \\\n",
       "0                0                              2022 Acura TLX A-Spec  2022   \n",
       "1                1                              2023 Acura RDX A-Spec  2023   \n",
       "2                2                              2023 Acura TLX Type S  2023   \n",
       "3                3                              2023 Acura TLX Type S  2023   \n",
       "4                4  2019 Acura MDX Sport Hybrid 3.0L w/Technology ...  2019   \n",
       "...            ...                                                ...   ...   \n",
       "115757       10005         2023 Volkswagen Atlas 3.6L SE w/Technology  2023   \n",
       "115758       10006                       2023 Volkswagen Taos 1.5T SE  2023   \n",
       "115759       10007                            2012 Volkswagen Beetle   2012   \n",
       "115760       10008                         2022 Volkswagen ID.4 Pro S  2022   \n",
       "115761       10009                      2013 Volkswagen Passat 2.5 SE  2013   \n",
       "\n",
       "       Status        Mileage    Price             MSRP  \n",
       "0         New  Not available  $49,445     MSRP $49,445  \n",
       "1         New  Not available  $50,895    Not specified  \n",
       "2         New  Not available  $57,745    Not specified  \n",
       "3         New  Not available  $57,545    Not specified  \n",
       "4        Used     32,675 mi.  $40,990  $600 price drop  \n",
       "...       ...            ...      ...              ...  \n",
       "115757    New  Not available  $47,346    Not specified  \n",
       "115758    New  Not available  $30,895    Not specified  \n",
       "115759   Used    100,395 mi.   $9,994  $252 price drop  \n",
       "115760    New  Not available  $52,585    Not specified  \n",
       "115761   Used    125,757 mi.  $10,995    Not specified  \n",
       "\n",
       "[115762 rows x 7 columns]>"
      ]
     },
     "execution_count": 143,
     "metadata": {},
     "output_type": "execute_result"
    }
   ],
   "source": [
    "cars.info\n"
   ]
  },
  {
   "cell_type": "code",
   "execution_count": 144,
   "metadata": {},
   "outputs": [
    {
     "data": {
      "text/plain": [
       "(115762, 7)"
      ]
     },
     "execution_count": 144,
     "metadata": {},
     "output_type": "execute_result"
    }
   ],
   "source": [
    "cars.shape"
   ]
  },
  {
   "cell_type": "code",
   "execution_count": 145,
   "metadata": {},
   "outputs": [
    {
     "data": {
      "text/plain": [
       "Unnamed: 0    0\n",
       "Model         0\n",
       "Year          0\n",
       "Status        0\n",
       "Mileage       0\n",
       "Price         0\n",
       "MSRP          0\n",
       "dtype: int64"
      ]
     },
     "execution_count": 145,
     "metadata": {},
     "output_type": "execute_result"
    }
   ],
   "source": [
    "cars.isnull().sum()"
   ]
  },
  {
   "cell_type": "code",
   "execution_count": 146,
   "metadata": {},
   "outputs": [
    {
     "data": {
      "text/plain": [
       "Unnamed: 0     int64\n",
       "Model         object\n",
       "Year           int64\n",
       "Status        object\n",
       "Mileage       object\n",
       "Price         object\n",
       "MSRP          object\n",
       "dtype: object"
      ]
     },
     "execution_count": 146,
     "metadata": {},
     "output_type": "execute_result"
    }
   ],
   "source": [
    "cars.dtypes"
   ]
  },
  {
   "attachments": {},
   "cell_type": "markdown",
   "metadata": {},
   "source": [
    "# Data clean"
   ]
  },
  {
   "cell_type": "code",
   "execution_count": 147,
   "metadata": {},
   "outputs": [
    {
     "data": {
      "text/html": [
       "<div>\n",
       "<style scoped>\n",
       "    .dataframe tbody tr th:only-of-type {\n",
       "        vertical-align: middle;\n",
       "    }\n",
       "\n",
       "    .dataframe tbody tr th {\n",
       "        vertical-align: top;\n",
       "    }\n",
       "\n",
       "    .dataframe thead th {\n",
       "        text-align: right;\n",
       "    }\n",
       "</style>\n",
       "<table border=\"1\" class=\"dataframe\">\n",
       "  <thead>\n",
       "    <tr style=\"text-align: right;\">\n",
       "      <th></th>\n",
       "      <th>Model</th>\n",
       "      <th>Year</th>\n",
       "      <th>Status</th>\n",
       "      <th>Mileage</th>\n",
       "      <th>Price</th>\n",
       "      <th>MSRP</th>\n",
       "    </tr>\n",
       "  </thead>\n",
       "  <tbody>\n",
       "    <tr>\n",
       "      <th>0</th>\n",
       "      <td>2022 Acura TLX A-Spec</td>\n",
       "      <td>2022</td>\n",
       "      <td>New</td>\n",
       "      <td>Not available</td>\n",
       "      <td>$49,445</td>\n",
       "      <td>MSRP $49,445</td>\n",
       "    </tr>\n",
       "    <tr>\n",
       "      <th>1</th>\n",
       "      <td>2023 Acura RDX A-Spec</td>\n",
       "      <td>2023</td>\n",
       "      <td>New</td>\n",
       "      <td>Not available</td>\n",
       "      <td>$50,895</td>\n",
       "      <td>Not specified</td>\n",
       "    </tr>\n",
       "    <tr>\n",
       "      <th>2</th>\n",
       "      <td>2023 Acura TLX Type S</td>\n",
       "      <td>2023</td>\n",
       "      <td>New</td>\n",
       "      <td>Not available</td>\n",
       "      <td>$57,745</td>\n",
       "      <td>Not specified</td>\n",
       "    </tr>\n",
       "    <tr>\n",
       "      <th>3</th>\n",
       "      <td>2023 Acura TLX Type S</td>\n",
       "      <td>2023</td>\n",
       "      <td>New</td>\n",
       "      <td>Not available</td>\n",
       "      <td>$57,545</td>\n",
       "      <td>Not specified</td>\n",
       "    </tr>\n",
       "    <tr>\n",
       "      <th>4</th>\n",
       "      <td>2019 Acura MDX Sport Hybrid 3.0L w/Technology ...</td>\n",
       "      <td>2019</td>\n",
       "      <td>Used</td>\n",
       "      <td>32,675 mi.</td>\n",
       "      <td>$40,990</td>\n",
       "      <td>$600 price drop</td>\n",
       "    </tr>\n",
       "  </tbody>\n",
       "</table>\n",
       "</div>"
      ],
      "text/plain": [
       "                                               Model  Year Status  \\\n",
       "0                              2022 Acura TLX A-Spec  2022    New   \n",
       "1                              2023 Acura RDX A-Spec  2023    New   \n",
       "2                              2023 Acura TLX Type S  2023    New   \n",
       "3                              2023 Acura TLX Type S  2023    New   \n",
       "4  2019 Acura MDX Sport Hybrid 3.0L w/Technology ...  2019   Used   \n",
       "\n",
       "         Mileage    Price             MSRP  \n",
       "0  Not available  $49,445     MSRP $49,445  \n",
       "1  Not available  $50,895    Not specified  \n",
       "2  Not available  $57,745    Not specified  \n",
       "3  Not available  $57,545    Not specified  \n",
       "4     32,675 mi.  $40,990  $600 price drop  "
      ]
     },
     "execution_count": 147,
     "metadata": {},
     "output_type": "execute_result"
    }
   ],
   "source": [
    "cars = cars.drop('Unnamed: 0',axis=1)\n",
    "cars.head()"
   ]
  },
  {
   "cell_type": "code",
   "execution_count": 148,
   "metadata": {},
   "outputs": [
    {
     "data": {
      "text/plain": [
       "Not available    47868\n",
       "310 mi.            101\n",
       "23,000 mi.          19\n",
       "1,000 mi.           18\n",
       "35,000 mi.          17\n",
       "                 ...  \n",
       "25,796 mi.           1\n",
       "51,830 mi.           1\n",
       "34,991 mi.           1\n",
       "62,460 mi.           1\n",
       "125,757 mi.          1\n",
       "Name: Mileage, Length: 49282, dtype: int64"
      ]
     },
     "execution_count": 148,
     "metadata": {},
     "output_type": "execute_result"
    }
   ],
   "source": [
    "cars[\"Mileage\"].value_counts()\n",
    "#It means there are 47868 new cars in the dataset. "
   ]
  },
  {
   "cell_type": "code",
   "execution_count": 149,
   "metadata": {},
   "outputs": [
    {
     "data": {
      "text/plain": [
       "Not Priced    652\n",
       "$29,995       241\n",
       "$34,995       226\n",
       "$72,010       200\n",
       "$39,995       192\n",
       "             ... \n",
       "$82,824         1\n",
       "$25,930         1\n",
       "$62,949         1\n",
       "$73,845         1\n",
       "$47,346         1\n",
       "Name: Price, Length: 37652, dtype: int64"
      ]
     },
     "execution_count": 149,
     "metadata": {},
     "output_type": "execute_result"
    }
   ],
   "source": [
    "cars['Price'].value_counts()"
   ]
  },
  {
   "cell_type": "code",
   "execution_count": 150,
   "metadata": {},
   "outputs": [
    {
     "data": {
      "text/plain": [
       "0.5632245469152226"
      ]
     },
     "execution_count": 150,
     "metadata": {},
     "output_type": "execute_result"
    }
   ],
   "source": [
    "len(cars.loc[cars['Price'] == 'Not Priced'])\n",
    "len(cars.loc[cars['Price'] == 'Not Priced'])/len(cars)*100\n",
    "#It means there are 652 cars withnot priced. "
   ]
  },
  {
   "cell_type": "code",
   "execution_count": 151,
   "metadata": {},
   "outputs": [
    {
     "data": {
      "text/plain": [
       "0"
      ]
     },
     "execution_count": 151,
     "metadata": {},
     "output_type": "execute_result"
    }
   ],
   "source": [
    "cars.drop(cars[cars['Price']== 'Not Priced'].index, inplace=True)\n",
    "#Verifying if the deletion has been successful\n",
    "len(cars.loc[cars['Price'] == 'Not Priced'])"
   ]
  },
  {
   "cell_type": "code",
   "execution_count": 152,
   "metadata": {},
   "outputs": [
    {
     "data": {
      "text/plain": [
       "0    49445\n",
       "1    50895\n",
       "2    57745\n",
       "3    57545\n",
       "4    40990\n",
       "Name: Price, dtype: int64"
      ]
     },
     "execution_count": 152,
     "metadata": {},
     "output_type": "execute_result"
    }
   ],
   "source": [
    "def get_price (price):\n",
    "    no_currency = price.replace('$', '')\n",
    "    return no_currency.replace(',', '')\n",
    "cars['Price'] = cars['Price'].apply(lambda x: get_price(x)).str.rstrip()\n",
    "cars['Price'] = pd.to_numeric(cars['Price'])\n",
    "cars['Price'].head()"
   ]
  },
  {
   "cell_type": "code",
   "execution_count": 153,
   "metadata": {},
   "outputs": [
    {
     "data": {
      "text/html": [
       "<div>\n",
       "<style scoped>\n",
       "    .dataframe tbody tr th:only-of-type {\n",
       "        vertical-align: middle;\n",
       "    }\n",
       "\n",
       "    .dataframe tbody tr th {\n",
       "        vertical-align: top;\n",
       "    }\n",
       "\n",
       "    .dataframe thead th {\n",
       "        text-align: right;\n",
       "    }\n",
       "</style>\n",
       "<table border=\"1\" class=\"dataframe\">\n",
       "  <thead>\n",
       "    <tr style=\"text-align: right;\">\n",
       "      <th></th>\n",
       "      <th>Model</th>\n",
       "      <th>Year</th>\n",
       "      <th>Status</th>\n",
       "      <th>Mileage</th>\n",
       "      <th>Price</th>\n",
       "      <th>MSRP</th>\n",
       "    </tr>\n",
       "  </thead>\n",
       "  <tbody>\n",
       "    <tr>\n",
       "      <th>0</th>\n",
       "      <td>2022 Acura TLX A-Spec</td>\n",
       "      <td>2022</td>\n",
       "      <td>New</td>\n",
       "      <td>Not available</td>\n",
       "      <td>49445</td>\n",
       "      <td>MSRP $49,445</td>\n",
       "    </tr>\n",
       "    <tr>\n",
       "      <th>1</th>\n",
       "      <td>2023 Acura RDX A-Spec</td>\n",
       "      <td>2023</td>\n",
       "      <td>New</td>\n",
       "      <td>Not available</td>\n",
       "      <td>50895</td>\n",
       "      <td>Not specified</td>\n",
       "    </tr>\n",
       "    <tr>\n",
       "      <th>2</th>\n",
       "      <td>2023 Acura TLX Type S</td>\n",
       "      <td>2023</td>\n",
       "      <td>New</td>\n",
       "      <td>Not available</td>\n",
       "      <td>57745</td>\n",
       "      <td>Not specified</td>\n",
       "    </tr>\n",
       "    <tr>\n",
       "      <th>3</th>\n",
       "      <td>2023 Acura TLX Type S</td>\n",
       "      <td>2023</td>\n",
       "      <td>New</td>\n",
       "      <td>Not available</td>\n",
       "      <td>57545</td>\n",
       "      <td>Not specified</td>\n",
       "    </tr>\n",
       "    <tr>\n",
       "      <th>4</th>\n",
       "      <td>2019 Acura MDX Sport Hybrid 3.0L w/Technology ...</td>\n",
       "      <td>2019</td>\n",
       "      <td>Used</td>\n",
       "      <td>32,675 mi.</td>\n",
       "      <td>40990</td>\n",
       "      <td>$600 price drop</td>\n",
       "    </tr>\n",
       "  </tbody>\n",
       "</table>\n",
       "</div>"
      ],
      "text/plain": [
       "                                               Model  Year Status  \\\n",
       "0                              2022 Acura TLX A-Spec  2022    New   \n",
       "1                              2023 Acura RDX A-Spec  2023    New   \n",
       "2                              2023 Acura TLX Type S  2023    New   \n",
       "3                              2023 Acura TLX Type S  2023    New   \n",
       "4  2019 Acura MDX Sport Hybrid 3.0L w/Technology ...  2019   Used   \n",
       "\n",
       "         Mileage  Price             MSRP  \n",
       "0  Not available  49445     MSRP $49,445  \n",
       "1  Not available  50895    Not specified  \n",
       "2  Not available  57745    Not specified  \n",
       "3  Not available  57545    Not specified  \n",
       "4     32,675 mi.  40990  $600 price drop  "
      ]
     },
     "execution_count": 153,
     "metadata": {},
     "output_type": "execute_result"
    }
   ],
   "source": [
    "def change_status(status):\n",
    "  if(\"Certified\" in status):\n",
    "    return \"Certified\"\n",
    "  return status\n",
    "cars[\"Status\"] = cars[\"Status\"].apply(change_status)\n",
    "cars.head()"
   ]
  },
  {
   "cell_type": "code",
   "execution_count": 154,
   "metadata": {},
   "outputs": [
    {
     "data": {
      "text/html": [
       "<div>\n",
       "<style scoped>\n",
       "    .dataframe tbody tr th:only-of-type {\n",
       "        vertical-align: middle;\n",
       "    }\n",
       "\n",
       "    .dataframe tbody tr th {\n",
       "        vertical-align: top;\n",
       "    }\n",
       "\n",
       "    .dataframe thead th {\n",
       "        text-align: right;\n",
       "    }\n",
       "</style>\n",
       "<table border=\"1\" class=\"dataframe\">\n",
       "  <thead>\n",
       "    <tr style=\"text-align: right;\">\n",
       "      <th></th>\n",
       "      <th>Model</th>\n",
       "      <th>Year</th>\n",
       "      <th>Status</th>\n",
       "      <th>Mileage</th>\n",
       "      <th>Price</th>\n",
       "      <th>MSRP</th>\n",
       "      <th>Brand</th>\n",
       "    </tr>\n",
       "  </thead>\n",
       "  <tbody>\n",
       "    <tr>\n",
       "      <th>0</th>\n",
       "      <td>2022 Acura TLX A-Spec</td>\n",
       "      <td>2022</td>\n",
       "      <td>New</td>\n",
       "      <td>Not available</td>\n",
       "      <td>49445</td>\n",
       "      <td>MSRP $49,445</td>\n",
       "      <td>Acura</td>\n",
       "    </tr>\n",
       "    <tr>\n",
       "      <th>1</th>\n",
       "      <td>2023 Acura RDX A-Spec</td>\n",
       "      <td>2023</td>\n",
       "      <td>New</td>\n",
       "      <td>Not available</td>\n",
       "      <td>50895</td>\n",
       "      <td>Not specified</td>\n",
       "      <td>Acura</td>\n",
       "    </tr>\n",
       "    <tr>\n",
       "      <th>2</th>\n",
       "      <td>2023 Acura TLX Type S</td>\n",
       "      <td>2023</td>\n",
       "      <td>New</td>\n",
       "      <td>Not available</td>\n",
       "      <td>57745</td>\n",
       "      <td>Not specified</td>\n",
       "      <td>Acura</td>\n",
       "    </tr>\n",
       "    <tr>\n",
       "      <th>3</th>\n",
       "      <td>2023 Acura TLX Type S</td>\n",
       "      <td>2023</td>\n",
       "      <td>New</td>\n",
       "      <td>Not available</td>\n",
       "      <td>57545</td>\n",
       "      <td>Not specified</td>\n",
       "      <td>Acura</td>\n",
       "    </tr>\n",
       "    <tr>\n",
       "      <th>4</th>\n",
       "      <td>2019 Acura MDX Sport Hybrid 3.0L w/Technology ...</td>\n",
       "      <td>2019</td>\n",
       "      <td>Used</td>\n",
       "      <td>32,675 mi.</td>\n",
       "      <td>40990</td>\n",
       "      <td>$600 price drop</td>\n",
       "      <td>Acura</td>\n",
       "    </tr>\n",
       "  </tbody>\n",
       "</table>\n",
       "</div>"
      ],
      "text/plain": [
       "                                               Model  Year Status  \\\n",
       "0                              2022 Acura TLX A-Spec  2022    New   \n",
       "1                              2023 Acura RDX A-Spec  2023    New   \n",
       "2                              2023 Acura TLX Type S  2023    New   \n",
       "3                              2023 Acura TLX Type S  2023    New   \n",
       "4  2019 Acura MDX Sport Hybrid 3.0L w/Technology ...  2019   Used   \n",
       "\n",
       "         Mileage  Price             MSRP  Brand  \n",
       "0  Not available  49445     MSRP $49,445  Acura  \n",
       "1  Not available  50895    Not specified  Acura  \n",
       "2  Not available  57745    Not specified  Acura  \n",
       "3  Not available  57545    Not specified  Acura  \n",
       "4     32,675 mi.  40990  $600 price drop  Acura  "
      ]
     },
     "execution_count": 154,
     "metadata": {},
     "output_type": "execute_result"
    }
   ],
   "source": [
    "def car_brand (model):\n",
    "    return model.split(' ')[1]\n",
    "cars['Brand'] = cars['Model'].apply(lambda x: car_brand(x))\n",
    "cars.head()"
   ]
  },
  {
   "cell_type": "code",
   "execution_count": 165,
   "metadata": {},
   "outputs": [
    {
     "data": {
      "text/plain": [
       "0    \n",
       "1    \n",
       "2    \n",
       "3    \n",
       "4    \n",
       "5    \n",
       "6    \n",
       "7    \n",
       "8    \n",
       "9    \n",
       "Name: Model, dtype: object"
      ]
     },
     "execution_count": 165,
     "metadata": {},
     "output_type": "execute_result"
    }
   ],
   "source": [
    "def extract_model(model):\n",
    "  m = model.split(\" \")\n",
    "  return \" \".join(m[2:4])\n",
    "cars[\"Model\"] = cars[\"Model\"].apply(extract_model)\n",
    "cars[\"Model\"].head(10)"
   ]
  },
  {
   "cell_type": "code",
   "execution_count": 156,
   "metadata": {},
   "outputs": [
    {
     "data": {
      "text/plain": [
       "0         0 mi.\n",
       "1         0 mi.\n",
       "2         0 mi.\n",
       "3         0 mi.\n",
       "4    32,675 mi.\n",
       "Name: Mileage, dtype: object"
      ]
     },
     "execution_count": 156,
     "metadata": {},
     "output_type": "execute_result"
    }
   ],
   "source": [
    "cars[\"Mileage\"].replace(\"Not available\",\"0 mi.\",inplace=True)\n",
    "cars[\"Mileage\"].head()"
   ]
  },
  {
   "cell_type": "code",
   "execution_count": 157,
   "metadata": {},
   "outputs": [
    {
     "data": {
      "text/plain": [
       "0        0\n",
       "1        0\n",
       "2        0\n",
       "3        0\n",
       "4    32675\n",
       "Name: Mileage, dtype: int64"
      ]
     },
     "execution_count": 157,
     "metadata": {},
     "output_type": "execute_result"
    }
   ],
   "source": [
    "\n",
    "def mileage_trans(mileage):\n",
    "    \n",
    "    return mileage.split(' ')[0].replace(\",\",\"\")\n",
    "cars['Mileage'] = cars['Mileage'].apply(lambda x: mileage_trans(x))\n",
    "cars['Mileage'] = pd.to_numeric(cars['Mileage'])\n",
    "cars['Mileage'].head()"
   ]
  },
  {
   "cell_type": "code",
   "execution_count": 158,
   "metadata": {},
   "outputs": [
    {
     "data": {
      "text/plain": [
       "Used         61627\n",
       "New          47434\n",
       "Certified     6049\n",
       "Name: Status, dtype: int64"
      ]
     },
     "execution_count": 158,
     "metadata": {},
     "output_type": "execute_result"
    }
   ],
   "source": [
    "cars[\"Status\"].value_counts()"
   ]
  },
  {
   "cell_type": "code",
   "execution_count": 159,
   "metadata": {},
   "outputs": [
    {
     "data": {
      "text/plain": [
       "count    115110.00\n",
       "mean      51517.99\n",
       "std       37931.87\n",
       "min        1800.00\n",
       "25%       29980.00\n",
       "50%       43275.00\n",
       "75%       61280.00\n",
       "max     2499900.00\n",
       "Name: Price, dtype: float64"
      ]
     },
     "execution_count": 159,
     "metadata": {},
     "output_type": "execute_result"
    }
   ],
   "source": [
    "pd.options.display.float_format = '{:.2f}'.format\n",
    "cars[\"Price\"].describe()\n"
   ]
  },
  {
   "cell_type": "code",
   "execution_count": 160,
   "metadata": {},
   "outputs": [
    {
     "data": {
      "text/plain": [
       "count   115110.00\n",
       "mean     28279.32\n",
       "std      38055.55\n",
       "min          0.00\n",
       "25%          0.00\n",
       "50%      11484.00\n",
       "75%      45778.25\n",
       "max     974302.00\n",
       "Name: Mileage, dtype: float64"
      ]
     },
     "execution_count": 160,
     "metadata": {},
     "output_type": "execute_result"
    }
   ],
   "source": [
    "cars[\"Mileage\"].describe()"
   ]
  },
  {
   "cell_type": "code",
   "execution_count": 161,
   "metadata": {},
   "outputs": [
    {
     "data": {
      "text/plain": [
       "2023    34744\n",
       "2022    20520\n",
       "2020    10104\n",
       "2021     9774\n",
       "2019     9748\n",
       "        ...  \n",
       "1958        2\n",
       "1962        2\n",
       "1953        1\n",
       "1949        1\n",
       "1966        1\n",
       "Name: Year, Length: 70, dtype: int64"
      ]
     },
     "execution_count": 161,
     "metadata": {},
     "output_type": "execute_result"
    }
   ],
   "source": [
    "cars[\"Year\"].value_counts()"
   ]
  },
  {
   "cell_type": "code",
   "execution_count": 164,
   "metadata": {},
   "outputs": [
    {
     "data": {
      "text/html": [
       "<div>\n",
       "<style scoped>\n",
       "    .dataframe tbody tr th:only-of-type {\n",
       "        vertical-align: middle;\n",
       "    }\n",
       "\n",
       "    .dataframe tbody tr th {\n",
       "        vertical-align: top;\n",
       "    }\n",
       "\n",
       "    .dataframe thead th {\n",
       "        text-align: right;\n",
       "    }\n",
       "</style>\n",
       "<table border=\"1\" class=\"dataframe\">\n",
       "  <thead>\n",
       "    <tr style=\"text-align: right;\">\n",
       "      <th></th>\n",
       "      <th>Model</th>\n",
       "      <th>Year</th>\n",
       "      <th>Status</th>\n",
       "      <th>Mileage</th>\n",
       "      <th>Price</th>\n",
       "      <th>MSRP</th>\n",
       "      <th>Brand</th>\n",
       "    </tr>\n",
       "  </thead>\n",
       "  <tbody>\n",
       "    <tr>\n",
       "      <th>0</th>\n",
       "      <td>TLX A-Spec</td>\n",
       "      <td>2022</td>\n",
       "      <td>New</td>\n",
       "      <td>0</td>\n",
       "      <td>49445</td>\n",
       "      <td>MSRP $49,445</td>\n",
       "      <td>Acura</td>\n",
       "    </tr>\n",
       "    <tr>\n",
       "      <th>1</th>\n",
       "      <td>RDX A-Spec</td>\n",
       "      <td>2023</td>\n",
       "      <td>New</td>\n",
       "      <td>0</td>\n",
       "      <td>50895</td>\n",
       "      <td>Not specified</td>\n",
       "      <td>Acura</td>\n",
       "    </tr>\n",
       "    <tr>\n",
       "      <th>2</th>\n",
       "      <td>TLX Type</td>\n",
       "      <td>2023</td>\n",
       "      <td>New</td>\n",
       "      <td>0</td>\n",
       "      <td>57745</td>\n",
       "      <td>Not specified</td>\n",
       "      <td>Acura</td>\n",
       "    </tr>\n",
       "    <tr>\n",
       "      <th>3</th>\n",
       "      <td>TLX Type</td>\n",
       "      <td>2023</td>\n",
       "      <td>New</td>\n",
       "      <td>0</td>\n",
       "      <td>57545</td>\n",
       "      <td>Not specified</td>\n",
       "      <td>Acura</td>\n",
       "    </tr>\n",
       "    <tr>\n",
       "      <th>4</th>\n",
       "      <td>MDX Sport</td>\n",
       "      <td>2019</td>\n",
       "      <td>Used</td>\n",
       "      <td>32675</td>\n",
       "      <td>40990</td>\n",
       "      <td>$600 price drop</td>\n",
       "      <td>Acura</td>\n",
       "    </tr>\n",
       "    <tr>\n",
       "      <th>5</th>\n",
       "      <td>TLX A-Spec</td>\n",
       "      <td>2023</td>\n",
       "      <td>New</td>\n",
       "      <td>0</td>\n",
       "      <td>50195</td>\n",
       "      <td>MSRP $50,195</td>\n",
       "      <td>Acura</td>\n",
       "    </tr>\n",
       "    <tr>\n",
       "      <th>6</th>\n",
       "      <td>TLX A-Spec</td>\n",
       "      <td>2023</td>\n",
       "      <td>New</td>\n",
       "      <td>0</td>\n",
       "      <td>50195</td>\n",
       "      <td>MSRP $50,195</td>\n",
       "      <td>Acura</td>\n",
       "    </tr>\n",
       "    <tr>\n",
       "      <th>7</th>\n",
       "      <td>TLX Type</td>\n",
       "      <td>2023</td>\n",
       "      <td>New</td>\n",
       "      <td>0</td>\n",
       "      <td>57745</td>\n",
       "      <td>Not specified</td>\n",
       "      <td>Acura</td>\n",
       "    </tr>\n",
       "    <tr>\n",
       "      <th>8</th>\n",
       "      <td>TLX A-Spec</td>\n",
       "      <td>2023</td>\n",
       "      <td>New</td>\n",
       "      <td>0</td>\n",
       "      <td>47995</td>\n",
       "      <td>Not specified</td>\n",
       "      <td>Acura</td>\n",
       "    </tr>\n",
       "    <tr>\n",
       "      <th>9</th>\n",
       "      <td>TLX A-Spec</td>\n",
       "      <td>2022</td>\n",
       "      <td>New</td>\n",
       "      <td>0</td>\n",
       "      <td>49545</td>\n",
       "      <td>Not specified</td>\n",
       "      <td>Acura</td>\n",
       "    </tr>\n",
       "  </tbody>\n",
       "</table>\n",
       "</div>"
      ],
      "text/plain": [
       "        Model  Year Status  Mileage  Price             MSRP  Brand\n",
       "0  TLX A-Spec  2022    New        0  49445     MSRP $49,445  Acura\n",
       "1  RDX A-Spec  2023    New        0  50895    Not specified  Acura\n",
       "2    TLX Type  2023    New        0  57745    Not specified  Acura\n",
       "3    TLX Type  2023    New        0  57545    Not specified  Acura\n",
       "4   MDX Sport  2019   Used    32675  40990  $600 price drop  Acura\n",
       "5  TLX A-Spec  2023    New        0  50195     MSRP $50,195  Acura\n",
       "6  TLX A-Spec  2023    New        0  50195     MSRP $50,195  Acura\n",
       "7    TLX Type  2023    New        0  57745    Not specified  Acura\n",
       "8  TLX A-Spec  2023    New        0  47995    Not specified  Acura\n",
       "9  TLX A-Spec  2022    New        0  49545    Not specified  Acura"
      ]
     },
     "execution_count": 164,
     "metadata": {},
     "output_type": "execute_result"
    }
   ],
   "source": []
  }
 ],
 "metadata": {
  "kernelspec": {
   "display_name": "Python 3",
   "language": "python",
   "name": "python3"
  },
  "language_info": {
   "codemirror_mode": {
    "name": "ipython",
    "version": 3
   },
   "file_extension": ".py",
   "mimetype": "text/x-python",
   "name": "python",
   "nbconvert_exporter": "python",
   "pygments_lexer": "ipython3",
   "version": "3.11.1"
  },
  "orig_nbformat": 4
 },
 "nbformat": 4,
 "nbformat_minor": 2
}
