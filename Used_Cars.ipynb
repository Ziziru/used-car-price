{
 "cells": [
  {
   "cell_type": "code",
   "execution_count": 3,
   "metadata": {},
   "outputs": [],
   "source": [
    "import numpy as np\n",
    "import pandas as pd \n",
    "import matplotlib.pyplot as plt\n",
    "import seaborn as sns\n",
    "sns.set()\n",
    "\n",
    "\n",
    "cars = pd.read_csv(\"C:\\E\\CLARK\\BIG DATA\\Final\\car_data.csv\")"
   ]
  },
  {
   "cell_type": "code",
   "execution_count": 4,
   "metadata": {},
   "outputs": [
    {
     "data": {
      "text/plain": [
       "<bound method DataFrame.info of         Unnamed: 0                                              Model  Year  \\\n",
       "0                0                              2022 Acura TLX A-Spec  2022   \n",
       "1                1                              2023 Acura RDX A-Spec  2023   \n",
       "2                2                              2023 Acura TLX Type S  2023   \n",
       "3                3                              2023 Acura TLX Type S  2023   \n",
       "4                4  2019 Acura MDX Sport Hybrid 3.0L w/Technology ...  2019   \n",
       "...            ...                                                ...   ...   \n",
       "115757       10005         2023 Volkswagen Atlas 3.6L SE w/Technology  2023   \n",
       "115758       10006                       2023 Volkswagen Taos 1.5T SE  2023   \n",
       "115759       10007                            2012 Volkswagen Beetle   2012   \n",
       "115760       10008                         2022 Volkswagen ID.4 Pro S  2022   \n",
       "115761       10009                      2013 Volkswagen Passat 2.5 SE  2013   \n",
       "\n",
       "       Status        Mileage    Price             MSRP  \n",
       "0         New  Not available  $49,445     MSRP $49,445  \n",
       "1         New  Not available  $50,895    Not specified  \n",
       "2         New  Not available  $57,745    Not specified  \n",
       "3         New  Not available  $57,545    Not specified  \n",
       "4        Used     32,675 mi.  $40,990  $600 price drop  \n",
       "...       ...            ...      ...              ...  \n",
       "115757    New  Not available  $47,346    Not specified  \n",
       "115758    New  Not available  $30,895    Not specified  \n",
       "115759   Used    100,395 mi.   $9,994  $252 price drop  \n",
       "115760    New  Not available  $52,585    Not specified  \n",
       "115761   Used    125,757 mi.  $10,995    Not specified  \n",
       "\n",
       "[115762 rows x 7 columns]>"
      ]
     },
     "execution_count": 4,
     "metadata": {},
     "output_type": "execute_result"
    }
   ],
   "source": [
    "cars.info\n"
   ]
  },
  {
   "cell_type": "code",
   "execution_count": 5,
   "metadata": {},
   "outputs": [
    {
     "data": {
      "text/plain": [
       "(115762, 7)"
      ]
     },
     "execution_count": 5,
     "metadata": {},
     "output_type": "execute_result"
    }
   ],
   "source": [
    "cars.shape"
   ]
  },
  {
   "cell_type": "code",
   "execution_count": 6,
   "metadata": {},
   "outputs": [
    {
     "data": {
      "text/plain": [
       "Unnamed: 0    0\n",
       "Model         0\n",
       "Year          0\n",
       "Status        0\n",
       "Mileage       0\n",
       "Price         0\n",
       "MSRP          0\n",
       "dtype: int64"
      ]
     },
     "execution_count": 6,
     "metadata": {},
     "output_type": "execute_result"
    }
   ],
   "source": [
    "cars.isnull().sum()"
   ]
  },
  {
   "attachments": {},
   "cell_type": "markdown",
   "metadata": {},
   "source": [
    "# Data clean"
   ]
  },
  {
   "cell_type": "code",
   "execution_count": 7,
   "metadata": {},
   "outputs": [
    {
     "data": {
      "text/html": [
       "<div>\n",
       "<style scoped>\n",
       "    .dataframe tbody tr th:only-of-type {\n",
       "        vertical-align: middle;\n",
       "    }\n",
       "\n",
       "    .dataframe tbody tr th {\n",
       "        vertical-align: top;\n",
       "    }\n",
       "\n",
       "    .dataframe thead th {\n",
       "        text-align: right;\n",
       "    }\n",
       "</style>\n",
       "<table border=\"1\" class=\"dataframe\">\n",
       "  <thead>\n",
       "    <tr style=\"text-align: right;\">\n",
       "      <th></th>\n",
       "      <th>Model</th>\n",
       "      <th>Year</th>\n",
       "      <th>Status</th>\n",
       "      <th>Mileage</th>\n",
       "      <th>Price</th>\n",
       "      <th>MSRP</th>\n",
       "    </tr>\n",
       "  </thead>\n",
       "  <tbody>\n",
       "    <tr>\n",
       "      <th>0</th>\n",
       "      <td>2022 Acura TLX A-Spec</td>\n",
       "      <td>2022</td>\n",
       "      <td>New</td>\n",
       "      <td>Not available</td>\n",
       "      <td>$49,445</td>\n",
       "      <td>MSRP $49,445</td>\n",
       "    </tr>\n",
       "    <tr>\n",
       "      <th>1</th>\n",
       "      <td>2023 Acura RDX A-Spec</td>\n",
       "      <td>2023</td>\n",
       "      <td>New</td>\n",
       "      <td>Not available</td>\n",
       "      <td>$50,895</td>\n",
       "      <td>Not specified</td>\n",
       "    </tr>\n",
       "    <tr>\n",
       "      <th>2</th>\n",
       "      <td>2023 Acura TLX Type S</td>\n",
       "      <td>2023</td>\n",
       "      <td>New</td>\n",
       "      <td>Not available</td>\n",
       "      <td>$57,745</td>\n",
       "      <td>Not specified</td>\n",
       "    </tr>\n",
       "    <tr>\n",
       "      <th>3</th>\n",
       "      <td>2023 Acura TLX Type S</td>\n",
       "      <td>2023</td>\n",
       "      <td>New</td>\n",
       "      <td>Not available</td>\n",
       "      <td>$57,545</td>\n",
       "      <td>Not specified</td>\n",
       "    </tr>\n",
       "    <tr>\n",
       "      <th>4</th>\n",
       "      <td>2019 Acura MDX Sport Hybrid 3.0L w/Technology ...</td>\n",
       "      <td>2019</td>\n",
       "      <td>Used</td>\n",
       "      <td>32,675 mi.</td>\n",
       "      <td>$40,990</td>\n",
       "      <td>$600 price drop</td>\n",
       "    </tr>\n",
       "  </tbody>\n",
       "</table>\n",
       "</div>"
      ],
      "text/plain": [
       "                                               Model  Year Status  \\\n",
       "0                              2022 Acura TLX A-Spec  2022    New   \n",
       "1                              2023 Acura RDX A-Spec  2023    New   \n",
       "2                              2023 Acura TLX Type S  2023    New   \n",
       "3                              2023 Acura TLX Type S  2023    New   \n",
       "4  2019 Acura MDX Sport Hybrid 3.0L w/Technology ...  2019   Used   \n",
       "\n",
       "         Mileage    Price             MSRP  \n",
       "0  Not available  $49,445     MSRP $49,445  \n",
       "1  Not available  $50,895    Not specified  \n",
       "2  Not available  $57,745    Not specified  \n",
       "3  Not available  $57,545    Not specified  \n",
       "4     32,675 mi.  $40,990  $600 price drop  "
      ]
     },
     "execution_count": 7,
     "metadata": {},
     "output_type": "execute_result"
    }
   ],
   "source": [
    "cars = cars.drop('Unnamed: 0',axis=1)\n",
    "cars.head()"
   ]
  },
  {
   "cell_type": "code",
   "execution_count": 8,
   "metadata": {},
   "outputs": [
    {
     "data": {
      "text/plain": [
       "Not available    47868\n",
       "310 mi.            101\n",
       "23,000 mi.          19\n",
       "1,000 mi.           18\n",
       "35,000 mi.          17\n",
       "                 ...  \n",
       "25,796 mi.           1\n",
       "51,830 mi.           1\n",
       "34,991 mi.           1\n",
       "62,460 mi.           1\n",
       "125,757 mi.          1\n",
       "Name: Mileage, Length: 49282, dtype: int64"
      ]
     },
     "execution_count": 8,
     "metadata": {},
     "output_type": "execute_result"
    }
   ],
   "source": [
    "cars[\"Mileage\"].value_counts()\n",
    "#It means there are 47868 new cars in the dataset. "
   ]
  },
  {
   "cell_type": "code",
   "execution_count": 9,
   "metadata": {},
   "outputs": [],
   "source": [
    "cars[\"Mileage\"].replace(\"Not available\",\"0 mi.\",inplace=True)\n",
    "cars[\"Price\"].replace(\"Not Priced\",\"$0\",inplace=True)"
   ]
  },
  {
   "cell_type": "code",
   "execution_count": 12,
   "metadata": {},
   "outputs": [],
   "source": [
    "def change_status(status):\n",
    "  if(\"Certified\" in status):\n",
    "    return \"Certified\"\n",
    "  return status\n",
    "cars[\"Status\"] = cars[\"Status\"].apply(change_status)"
   ]
  },
  {
   "cell_type": "code",
   "execution_count": null,
   "metadata": {},
   "outputs": [],
   "source": []
  },
  {
   "cell_type": "code",
   "execution_count": null,
   "metadata": {},
   "outputs": [],
   "source": []
  }
 ],
 "metadata": {
  "kernelspec": {
   "display_name": "Python 3",
   "language": "python",
   "name": "python3"
  },
  "language_info": {
   "codemirror_mode": {
    "name": "ipython",
    "version": 3
   },
   "file_extension": ".py",
   "mimetype": "text/x-python",
   "name": "python",
   "nbconvert_exporter": "python",
   "pygments_lexer": "ipython3",
   "version": "3.11.1"
  },
  "orig_nbformat": 4
 },
 "nbformat": 4,
 "nbformat_minor": 2
}
